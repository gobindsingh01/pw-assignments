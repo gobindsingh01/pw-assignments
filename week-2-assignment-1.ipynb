{
 "cells": [
  {
   "cell_type": "code",
   "execution_count": 3,
   "id": "53a3d6f7-cd53-48d4-ae14-cabeed043fc3",
   "metadata": {},
   "outputs": [
    {
     "name": "stdout",
     "output_type": "stream",
     "text": [
      "\n",
      "Ans. There are 2 types of comments in python, namely :\n",
      "1. single line comment\n",
      "2. multi line comment \n",
      "\n",
      "1. single line comment = single line comment can be used by adding \"#\" before a line to comment it.\n",
      "if we want to comment multiple lines then we need to add multiple \"#\" before each lines.\n",
      "example -\n",
      "#print(\"hello\")\n",
      "#print(\"hello\")\n",
      "\n",
      "2. multi line comment or multi line string = multi line comment or multi line string is the used to write this answer.\n",
      "multi line comment can store multiple line of codes in it, by storing those line in between triple single or triple double quotes.\n",
      "we can end the comment by again adding triple quotes and that code will not be processed even being a string because we are not printing it,\n",
      "but we certainly can print multi line comment as it is a form of string.\n",
      "like the example below.\n",
      "\n"
     ]
    }
   ],
   "source": [
    "#Q1. How do you comment code in Python? What are the different types of comments?\n",
    "a=\"\"\"\n",
    "Ans. There are 2 types of comments in python, namely :\n",
    "1. single line comment\n",
    "2. multi line comment \n",
    "\n",
    "1. single line comment = single line comment can be used by adding \"#\" before a line to comment it.\n",
    "if we want to comment multiple lines then we need to add multiple \"#\" before each lines.\n",
    "example -\n",
    "#print(\"hello\")\n",
    "#print(\"hello\")\n",
    "\n",
    "2. multi line comment or multi line string = multi line comment or multi line string is the used to write this answer.\n",
    "multi line comment can store multiple line of codes in it, by storing those line in between triple single or triple double quotes.\n",
    "we can end the comment by again adding triple quotes and that code will not be processed even being a string because we are not printing it,\n",
    "but we certainly can print multi line comment as it is a form of string.\n",
    "like the example below.\n",
    "\"\"\"\n",
    "print(a)"
   ]
  },
  {
   "cell_type": "code",
   "execution_count": null,
   "id": "02adeef0-becd-4cd9-ae48-5d9eab34d5fc",
   "metadata": {},
   "outputs": [],
   "source": [
    "#Q2. What are variables in Python? How do you declare and assign values to variables?\n",
    "\"\"\"\n",
    "Ans. variables are containers which help us store a value in it which we can use later on.\n",
    "variables when store a value in them change there data type to that of the value automatically.\n",
    "like\n",
    "\"\"\"\n",
    "a2=5\n",
    "type(a2)\n",
    "\"\"\"\n",
    "we can declare a variable by giving a name to variable like -\n",
    "v1 = \"\"\n",
    "and when we want to assign a value to this variable we can simply assign like this - \n",
    "v1 = \"Hello\"\n",
    "\"\"\""
   ]
  },
  {
   "cell_type": "code",
   "execution_count": 6,
   "id": "8627c741-2a30-4398-9735-a124704a7b84",
   "metadata": {},
   "outputs": [
    {
     "name": "stdout",
     "output_type": "stream",
     "text": [
      "<class 'int'>\n",
      "<class 'str'>\n"
     ]
    }
   ],
   "source": [
    "#Q3. How do you convert one data type to another in Python?\n",
    "\"\"\"\n",
    "Ans. Converting a data type to another is known as type casting and we can do that with the help of certain functions.\n",
    "if we want to change a integer to string we can use str() function .\n",
    "if we want to change a data type to int we can use int() function.\n",
    "if we want to chang ea data type to float we can use float() function.\n",
    "similarly with lists and so on.\n",
    "now example-\n",
    "\"\"\"\n",
    "a3=5 # storing int value 5 in a3\n",
    "print(type(a3)) # checking type of a3 which is int\n",
    "a3= str(a3) # changing the data type of a3 to string and reassigning it to a3\n",
    "print(type(a3)) # now the data type has been succesfully converted to string\n"
   ]
  },
  {
   "cell_type": "code",
   "execution_count": 7,
   "id": "baefc661-eaa2-4fa4-90bd-0300b9b1f5e3",
   "metadata": {},
   "outputs": [
    {
     "data": {
      "text/plain": [
       "'\\nAns. first we need to open command prompt\\nthen we need to go to the desired location like = \"cd foldername\" \\nchange the foldername with the actual foldername\\nthen, when you reach the desired folder in command prompt \\nnow run a command = echo \"print(\\'hello\\')\" > first.py\\nthis command will create a first.py file with \"print(\\'hello\\')\" code in it.\\n\\nnow to run this file we can run a command which is \\n\"python first.py\"\\nthis command will only work if the python is in evironment variables.\\nand this command will execute the script.\\n'"
      ]
     },
     "execution_count": 7,
     "metadata": {},
     "output_type": "execute_result"
    }
   ],
   "source": [
    "#Q4. How do you write and execute a Python script from the command line?\n",
    "\"\"\"\n",
    "Ans. first we need to open command prompt\n",
    "then we need to go to the desired location like = \"cd foldername\" \n",
    "change the foldername with the actual foldername\n",
    "then, when you reach the desired folder in command prompt \n",
    "now run a command = echo \"print('hello')\" > first.py\n",
    "this command will create a first.py file with \"print('hello')\" code in it.\n",
    "\n",
    "now to run this file we can run a command which is \n",
    "\"python first.py\"\n",
    "this command will only work if the python is in evironment variables.\n",
    "and this command will execute the script.\n",
    "\"\"\""
   ]
  },
  {
   "cell_type": "code",
   "execution_count": 8,
   "id": "6180a1cd-a51a-4fc6-a837-0a6e6e822e01",
   "metadata": {},
   "outputs": [
    {
     "data": {
      "text/plain": [
       "[2, 3]"
      ]
     },
     "execution_count": 8,
     "metadata": {},
     "output_type": "execute_result"
    }
   ],
   "source": [
    "#Q5. Given a list my_list = [1, 2, 3, 4, 5], write the code to slice the list and obtain the sub-list [2, 3].\n",
    "my_list = [1, 2, 3, 4, 5]\n",
    "sub_list = my_list[1:3]\n",
    "sub_list"
   ]
  },
  {
   "cell_type": "code",
   "execution_count": 1,
   "id": "6059b224-da66-4306-affa-e74934d7e077",
   "metadata": {},
   "outputs": [
    {
     "name": "stdout",
     "output_type": "stream",
     "text": [
      "<class 'complex'>\n",
      "3.0\n",
      "6.0\n"
     ]
    }
   ],
   "source": [
    "#Q6. What is a complex number in mathematics, and how is it represented in Python?\n",
    "\"\"\"\n",
    "Ans. complex number in mathematics are the numbers that are expressed in the form of a+ib where  a,b are real numbers\n",
    "and i is imaginary called iota.\n",
    "like 5+10i\n",
    "\n",
    "in python, complex numbers can be expressed as 3+6j where 3 is real and 6 is imaginary also j needs be there instead of i.\n",
    "\"\"\"\n",
    "a6=3+6j\n",
    "print(type(a6))\n",
    "print(a6.real)\n",
    "print(a6.imag)"
   ]
  },
  {
   "cell_type": "code",
   "execution_count": 2,
   "id": "dab2f3ec-0cdf-45e4-9ba8-90a572f0e149",
   "metadata": {},
   "outputs": [
    {
     "data": {
      "text/plain": [
       "'\\nage is a numric data type so we need to assign 25 to age as integer.\\n'"
      ]
     },
     "execution_count": 2,
     "metadata": {},
     "output_type": "execute_result"
    }
   ],
   "source": [
    "#What is the correct way to declare a variable named age and assign the value 25 to it?\n",
    "\"\"\"\n",
    "Ans. the correct way to declare a variable named age and assign the value 25 to it would be like this.\n",
    "\"\"\"\n",
    "age=25\n",
    "\"\"\"\n",
    "age is a numric data type so we need to assign 25 to age as integer.\n",
    "\"\"\""
   ]
  },
  {
   "cell_type": "code",
   "execution_count": 3,
   "id": "c2ceacbd-f498-4300-82b3-9f852568d4e3",
   "metadata": {},
   "outputs": [
    {
     "name": "stdout",
     "output_type": "stream",
     "text": [
      "<class 'float'>\n"
     ]
    },
    {
     "data": {
      "text/plain": [
       "'\\nas we can see that the value 9.99 is a float value, so we can say that variable will also be float data type.\\nit is because the variables automatically assign data type to store a certain value.\\n'"
      ]
     },
     "execution_count": 3,
     "metadata": {},
     "output_type": "execute_result"
    }
   ],
   "source": [
    "#Q8. Declare a variable named price and assign the value 9.99 to it. What data type does this variable belong to?\n",
    "price = 9.99\n",
    "print(type(price))\n",
    "\"\"\"\n",
    "as we can see that the value 9.99 is a float value, so we can say that variable will also be float data type.\n",
    "it is because the variables automatically assign data type to store a certain value.\n",
    "\"\"\""
   ]
  },
  {
   "cell_type": "code",
   "execution_count": 4,
   "id": "e97af960-85ee-494a-b983-f25666eac4db",
   "metadata": {},
   "outputs": [
    {
     "name": "stdout",
     "output_type": "stream",
     "text": [
      "Gobind Singh\n"
     ]
    },
    {
     "data": {
      "text/plain": [
       "'\\nwe can simply print a string with the help of a print function.\\n'"
      ]
     },
     "execution_count": 4,
     "metadata": {},
     "output_type": "execute_result"
    }
   ],
   "source": [
    "#Q9. Create a variable named name and assign your full name to it as a string. How would you print the\n",
    "#value of this variable?\n",
    "name= \"Gobind Singh\"\n",
    "print(name)\n",
    "\"\"\"\n",
    "we can simply print a string with the help of a print function.\n",
    "\"\"\""
   ]
  },
  {
   "cell_type": "code",
   "execution_count": 5,
   "id": "4c9014d9-9722-4eed-a83a-7536de968f84",
   "metadata": {},
   "outputs": [
    {
     "name": "stdout",
     "output_type": "stream",
     "text": [
      "World\n"
     ]
    }
   ],
   "source": [
    "#Q10. Given the string \"Hello, World!\", extract the substring \"World\".\n",
    "a10 = \"Hello, World!\"\n",
    "print(a10[7:12])\n",
    "\"\"\"\n",
    "in order to extract a substring 'World', we need to use slicing.\n",
    "we need the starting index and ending index + 1\n",
    "so, W is at 7\n",
    "and, d is at 11, so 11+1 as end always shows the values before the specified index.\n",
    "\"\"\""
   ]
  },
  {
   "cell_type": "code",
   "execution_count": 6,
   "id": "26feb643-03dc-40ae-a08a-3da6a71022cb",
   "metadata": {},
   "outputs": [
    {
     "data": {
      "text/plain": [
       "'\\nTrue is a keyword in python thus it is not entered as a string also it is a boolean data type.\\n'"
      ]
     },
     "execution_count": 6,
     "metadata": {},
     "output_type": "execute_result"
    }
   ],
   "source": [
    "#Q11. Create a variable named \"is_student\" and assign it a boolean value indicating whether you are\n",
    "# currently a student or not.\n",
    "is_student= True\n",
    "\"\"\"\n",
    "True is a keyword in python thus it is not entered as a string also it is a boolean data type.\n",
    "\"\"\""
   ]
  },
  {
   "cell_type": "code",
   "execution_count": null,
   "id": "3d30fc35-0a8e-4c85-bdbb-95a0f0818293",
   "metadata": {},
   "outputs": [],
   "source": []
  }
 ],
 "metadata": {
  "kernelspec": {
   "display_name": "Python 3 (ipykernel)",
   "language": "python",
   "name": "python3"
  },
  "language_info": {
   "codemirror_mode": {
    "name": "ipython",
    "version": 3
   },
   "file_extension": ".py",
   "mimetype": "text/x-python",
   "name": "python",
   "nbconvert_exporter": "python",
   "pygments_lexer": "ipython3",
   "version": "3.10.8"
  }
 },
 "nbformat": 4,
 "nbformat_minor": 5
}
