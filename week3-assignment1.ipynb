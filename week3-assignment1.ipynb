{
 "cells": [
  {
   "cell_type": "code",
   "execution_count": 1,
   "id": "7709b4e8-685c-48a2-bd09-c49eb6c0afa9",
   "metadata": {},
   "outputs": [
    {
     "data": {
      "text/plain": [
       "[1, 3, 5, 7, 9, 11, 13, 15, 17, 19, 21, 23, 25]"
      ]
     },
     "execution_count": 1,
     "metadata": {},
     "output_type": "execute_result"
    }
   ],
   "source": [
    "#Q1. Which keyword is used to create a function? Create a function to return a list of odd numbers in the\n",
    "# range of 1 to 25.\n",
    "\"\"\"\n",
    "Ans. def keyword is used to create a function.\n",
    "\n",
    "example= \n",
    "def test():\n",
    "    pass\n",
    "    \n",
    "function to return a list of odd numbers in the range of 1 to 25.\n",
    "\"\"\"\n",
    "def odd_num():\n",
    "    l=[] #empty list to store the odd numbers\n",
    "    for i in range(1,26): #range from 1 to 25, 26 is written as range will end before 26.\n",
    "        if i%2!=0 : # checking for the odd numbers\n",
    "            l.append(i) # appending the odd numbers to the list 'l'\n",
    "    return l # giving back the list containing the odd numbers\n",
    "odd_num() # calling the function\n"
   ]
  },
  {
   "cell_type": "code",
   "execution_count": 2,
   "id": "585be14c-ade3-4875-88fb-be42948e3b6a",
   "metadata": {},
   "outputs": [
    {
     "name": "stdout",
     "output_type": "stream",
     "text": [
      "<class 'tuple'>\n",
      "<class 'dict'>\n"
     ]
    }
   ],
   "source": [
    "# Q2. Why *args and **kwargs is used in some functions? Create a function each for *args and **kwargs\n",
    "# to demonstrate their use.\n",
    "\"\"\"\n",
    "Ans. Sometimes when we are using functions and we know that the numbers arguments could be more sometimes and less sometimes.\n",
    "at that time we need some dynamic way to store the arguments, so that we could work with numbers of arguments.\n",
    "\n",
    "for that time we have *args and **kwargs \n",
    "\n",
    "*args - allows us to take multiple arguments as a tuple.\n",
    "**kwargs - allows us to take multiple arguments in the form of key value pair or in form of dictionary.\n",
    "\n",
    "examples-\n",
    "\"\"\"\n",
    "def func1(*args) : # we can write anything we want in place of args only main thing is * symbol.\n",
    "    return args # gives back all the values as a tuple\n",
    "print(type(func1(1,2)))\n",
    "\n",
    "def func2(**kwargs): # we can write anything we want in place of kwargs only main thing is ** symbol.\n",
    "    return kwargs # returns a dictionary of values\n",
    "print(type(func2(a=1,b=2)))\n"
   ]
  },
  {
   "cell_type": "code",
   "execution_count": 4,
   "id": "72d9f891-d5ba-4c22-a7cb-ba11eb7016ac",
   "metadata": {},
   "outputs": [
    {
     "name": "stdout",
     "output_type": "stream",
     "text": [
      "2\n",
      "4\n",
      "6\n",
      "8\n",
      "10\n"
     ]
    }
   ],
   "source": [
    "# Q3. What is an iterator in python? Name the method used to initialise the iterator object and the method\n",
    "# used for iteration. Use these methods to print the first five elements of the given list [2, 4, 6, 8, 10, 12, 14,\n",
    "# 16, 18, 20].\n",
    "\"\"\"\n",
    "Ans. An iterator in python is used access the value of an iterable one at a time. \n",
    "we can intialise the iteartor object with the iter() function and \n",
    "the iteration can be done using the next() method.\n",
    "for example-\n",
    "\"\"\"\n",
    "l=[2, 4, 6, 8, 10, 12, 14, 16, 18, 20] # list or iterable\n",
    "l1= iter(l) # making the iterator\n",
    "print(next(l1)) # using the next to get value one at a time \n",
    "print(next(l1)) # we could also use a loop to help us \n",
    "print(next(l1))\n",
    "print(next(l1))\n",
    "print(next(l1))"
   ]
  },
  {
   "cell_type": "code",
   "execution_count": 8,
   "id": "42e2a2d3-956a-44c5-995d-ba8cc085be2f",
   "metadata": {},
   "outputs": [
    {
     "name": "stdout",
     "output_type": "stream",
     "text": [
      "0\n",
      "1\n",
      "1\n",
      "2\n",
      "3\n",
      "5\n"
     ]
    },
    {
     "data": {
      "text/plain": [
       "\"\\nin the above function the function the while loop is infinte yet if doesn't work infinte times.\\nit is because of yield. the yield helped in creating a generator which only generates the values only when it is iterated.\\nthen the generator object was stored in a and was iterated 6 times.\\nthere are mutiple ways we can do this but this way we can clearly see how it is working one at a time.\\n\""
      ]
     },
     "execution_count": 8,
     "metadata": {},
     "output_type": "execute_result"
    }
   ],
   "source": [
    "# Q4. What is a generator function in python? Why yield keyword is used? Give an example of a generator\n",
    "# function.\n",
    "\"\"\"\n",
    "Ans. Generator function in python helps in generating the values one at a time,\n",
    "instead of generating all the values in a list, it generates values at run time.\n",
    "it uses yield keyword which throws the values one at a time.\n",
    "it creates a generator object which is iterable and can be used as iterator.\n",
    "for example=\n",
    "\"\"\"\n",
    "def func4():\n",
    "    a,b=0,1\n",
    "    while True:\n",
    "        yield a\n",
    "        a,b=b,a+b\n",
    "a=func4()\n",
    "print(next(a))\n",
    "print(next(a))\n",
    "print(next(a))\n",
    "print(next(a))\n",
    "print(next(a))\n",
    "print(next(a))\n",
    "\"\"\"\n",
    "in the above function the function the while loop is infinte yet if doesn't work infinte times.\n",
    "it is because of yield. the yield helped in creating a generator which only generates the values only when it is iterated.\n",
    "then the generator object was stored in a and was iterated 6 times.\n",
    "there are mutiple ways we can do this but this way we can clearly see how it is working one at a time.\n",
    "\"\"\""
   ]
  },
  {
   "cell_type": "code",
   "execution_count": 10,
   "id": "88cac85a-579e-424a-907d-dbc865ae599b",
   "metadata": {},
   "outputs": [
    {
     "name": "stdout",
     "output_type": "stream",
     "text": [
      "2\n",
      "3\n",
      "5\n",
      "7\n",
      "11\n",
      "13\n",
      "17\n",
      "19\n",
      "23\n",
      "29\n",
      "31\n",
      "37\n",
      "41\n",
      "43\n",
      "47\n",
      "53\n",
      "59\n",
      "61\n",
      "67\n",
      "71\n"
     ]
    }
   ],
   "source": [
    "# Q5. Create a generator function for prime numbers less than 1000. Use the next() method to print the\n",
    "# first 20 prime numbers.\n",
    "# Ans. below\n",
    "def prime_nums():\n",
    "    for i in range(2,1001): # range from 2 to 1000, +1 because it ends before the specified number and start from 2 because 1 is to be ignored.\n",
    "        flag=1   # flag is set so that if the flag remains it means that the number is prime.\n",
    "        for j in range(2,i//2+1): # another loop to divide the number with all numbers less than half the value of i\n",
    "            if (i%j==0): # checking if any number is divisible\n",
    "                flag=0 # removing the flag or setting it to 0 so that it can't be yielded\n",
    "                break # breaking the loop as the value i is not prime\n",
    "        if flag==1: # checking if the value of flag is still 1.\n",
    "            yield i # yielding the value or giving the value back as flag remains 1 meaning the number is prime.\n",
    "a5=prime_nums() # generator object stored\n",
    "for i in range(20): # running loop 20 times\n",
    "    print(next(a5)) # getting the values of first 20 primes "
   ]
  },
  {
   "cell_type": "code",
   "execution_count": null,
   "id": "da18d43d-f86e-4406-b403-1983da135f71",
   "metadata": {},
   "outputs": [],
   "source": [
    "# Q6. Write a python program to print the first 10 Fibonacci numbers using a while loop."
   ]
  }
 ],
 "metadata": {
  "kernelspec": {
   "display_name": "Python 3 (ipykernel)",
   "language": "python",
   "name": "python3"
  },
  "language_info": {
   "codemirror_mode": {
    "name": "ipython",
    "version": 3
   },
   "file_extension": ".py",
   "mimetype": "text/x-python",
   "name": "python",
   "nbconvert_exporter": "python",
   "pygments_lexer": "ipython3",
   "version": "3.10.8"
  }
 },
 "nbformat": 4,
 "nbformat_minor": 5
}
