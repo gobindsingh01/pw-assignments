{
 "cells": [
  {
   "cell_type": "code",
   "execution_count": 2,
   "id": "2d9ea9f1-17c9-48d8-90fe-f645f130c8b2",
   "metadata": {},
   "outputs": [
    {
     "name": "stdout",
     "output_type": "stream",
     "text": [
      "<class 'str'>\n",
      "<class 'list'>\n",
      "<class 'float'>\n",
      "<class 'tuple'>\n"
     ]
    }
   ],
   "source": [
    "#Q1: Create one variable containing following type of data:\n",
    "#(i) string\n",
    "str1 = \"hello\"\n",
    "print(type(str1))\n",
    "\n",
    "#(ii) list\n",
    "list1 =[1,2,3]\n",
    "print(type(list1))\n",
    "\n",
    "#(iii) float\n",
    "float1= 10.5\n",
    "print(type(float1))\n",
    "\n",
    "#(iv) tuple\n",
    "tuple1=(1,2,3)\n",
    "print(type(tuple1))"
   ]
  },
  {
   "cell_type": "code",
   "execution_count": 3,
   "id": "6d4ca4ea-b1f1-478a-ba40-020d498a1f2e",
   "metadata": {},
   "outputs": [
    {
     "name": "stdout",
     "output_type": "stream",
     "text": [
      "<class 'str'>\n",
      "<class 'str'>\n",
      "<class 'list'>\n",
      "<class 'int'>\n"
     ]
    }
   ],
   "source": [
    "#Q2. Given are some following variables containing data:\n",
    "#(i) var1 = ‘ ‘\n",
    "var1 = ''\n",
    "print(type(var1))\n",
    "\n",
    "#(ii) var2 = ‘[ DS , ML , Python]’\n",
    "var2 = '[ DS , ML , Python]'\n",
    "print(type(var2))\n",
    "\n",
    "#(iii) var3 = [ ‘DS’ , ’ML’ , ‘Python’ ]\n",
    "var3 = [ 'DS' , 'ML' , 'Python' ]\n",
    "print(type(var3))\n",
    "\n",
    "#(iv) var4 = 1.\n",
    "var4 = 1\n",
    "print(type(var4))\n",
    "\n",
    "#What will be the data type of the above given variable."
   ]
  },
  {
   "cell_type": "code",
   "execution_count": 4,
   "id": "ed63cb10-b6f4-46d8-9b7e-ff1a3a05be1a",
   "metadata": {},
   "outputs": [
    {
     "name": "stdout",
     "output_type": "stream",
     "text": [
      "7.5\n",
      "1\n",
      "7\n",
      "225\n"
     ]
    }
   ],
   "source": [
    "#Q3. Explain the use of the following operators using an example:\n",
    "a=15\n",
    "b=2\n",
    "\n",
    "#(i) /\n",
    "print(a/b)\n",
    "#this divide will provide answer as float or we can say exact answer (7.5).\n",
    "\n",
    "#(ii) %\n",
    "print(a%b)\n",
    "# this operator is modulus and helps in getting the remainder of a division (1).\n",
    "\n",
    "#(iii) //\n",
    "print(a//b)\n",
    "#this is floor division which gives back floor value after division(7).\n",
    "\n",
    "#(iv) **\n",
    "print(a**b)\n",
    "# this operator is exponentiation and it helps in providing powers (225)."
   ]
  },
  {
   "cell_type": "code",
   "execution_count": 7,
   "id": "55d1cfde-135e-46a4-903e-45ba65bb9a47",
   "metadata": {},
   "outputs": [
    {
     "name": "stdout",
     "output_type": "stream",
     "text": [
      "1 \t\t <class 'int'>\n",
      "2.5 \t\t <class 'float'>\n",
      "5 \t\t <class 'int'>\n",
      "gobind \t\t <class 'str'>\n",
      "[10, 20, 30] \t\t <class 'list'>\n",
      "5j \t\t <class 'complex'>\n",
      "True \t\t <class 'bool'>\n",
      "False \t\t <class 'bool'>\n",
      "hello \t\t <class 'str'>\n",
      "3.14 \t\t <class 'float'>\n"
     ]
    }
   ],
   "source": [
    "#Q4. Create a list of length 10 of your choice containing multiple types of data. Using for loop print theelement and its data type.\n",
    "ListOf10= [1,2.5,5,\"gobind\", [10,20,30],5j,True, False,'hello',3.14]\n",
    "for i in ListOf10:\n",
    "    print(i,'\\t\\t',type(i)) "
   ]
  },
  {
   "cell_type": "code",
   "execution_count": 11,
   "id": "3b8e2c0e-34e7-4ecf-99a1-ac4d64eb6cac",
   "metadata": {},
   "outputs": [
    {
     "name": "stdin",
     "output_type": "stream",
     "text": [
      "enter value for A :  64\n",
      "enter value for B :  2\n"
     ]
    },
    {
     "name": "stdout",
     "output_type": "stream",
     "text": [
      "purely divisble 6 times\n"
     ]
    }
   ],
   "source": [
    "#Q5. Using a while loop, verify if the number A is purely divisible by number B and if so then how many times it can be divisible.\n",
    "A= int(input(\"enter value for A : \"))\n",
    "B = int(input(\"enter value for B : \"))\n",
    "c=0\n",
    "\n",
    "if (A%B==0):\n",
    "    while (A%B==0):\n",
    "        c+=1\n",
    "        A/=B\n",
    "    print(\"purely divisble\",c,'times')\n",
    "else:\n",
    "    print(\"not purely divisible\")"
   ]
  },
  {
   "cell_type": "code",
   "execution_count": 13,
   "id": "dd489414-c232-4094-b832-518370bc5ef5",
   "metadata": {},
   "outputs": [
    {
     "name": "stdout",
     "output_type": "stream",
     "text": [
      "1 is not divisible by 3\n",
      "2 is not divisible by 3\n",
      "3 is divisible by 3\n",
      "4 is not divisible by 3\n",
      "5 is not divisible by 3\n",
      "6 is divisible by 3\n",
      "7 is not divisible by 3\n",
      "8 is not divisible by 3\n",
      "9 is divisible by 3\n",
      "10 is not divisible by 3\n",
      "11 is not divisible by 3\n",
      "12 is divisible by 3\n",
      "13 is not divisible by 3\n",
      "14 is not divisible by 3\n",
      "15 is divisible by 3\n",
      "16 is not divisible by 3\n",
      "17 is not divisible by 3\n",
      "18 is divisible by 3\n",
      "19 is not divisible by 3\n",
      "20 is not divisible by 3\n",
      "21 is divisible by 3\n",
      "22 is not divisible by 3\n",
      "23 is not divisible by 3\n",
      "24 is divisible by 3\n",
      "25 is not divisible by 3\n"
     ]
    }
   ],
   "source": [
    "#Q6. Create a list containing 25 int type data. Using for loop and if-else condition print if the element is divisible by 3 or not.\n",
    "listof25 = [1,2,3,4,5,6,7,8,9,10,11,12,13,14,15,16,17,18,19,20,21,22,23,24,25]\n",
    "for i in listof25:\n",
    "    if (i%3==0):\n",
    "        print(i,\"is divisible by 3\")\n",
    "    else:\n",
    "        print(i, \"is not divisible by 3\")"
   ]
  },
  {
   "cell_type": "code",
   "execution_count": 14,
   "id": "0fca4a84-e102-4591-9cde-431a21a20059",
   "metadata": {},
   "outputs": [
    {
     "name": "stdout",
     "output_type": "stream",
     "text": [
      "[10, 2, 3]\n"
     ]
    },
    {
     "ename": "TypeError",
     "evalue": "'str' object does not support item assignment",
     "output_type": "error",
     "traceback": [
      "\u001b[0;31m---------------------------------------------------------------------------\u001b[0m",
      "\u001b[0;31mTypeError\u001b[0m                                 Traceback (most recent call last)",
      "Cell \u001b[0;32mIn[14], line 11\u001b[0m\n\u001b[1;32m      7\u001b[0m \u001b[38;5;66;03m#now the element at 0 index will be replaced or modified to 10\u001b[39;00m\n\u001b[1;32m      8\u001b[0m \n\u001b[1;32m      9\u001b[0m \u001b[38;5;66;03m# whereas the immutable datatypes are opposite of mutable which simply means that elements can't be modified ex- string\u001b[39;00m\n\u001b[1;32m     10\u001b[0m str7\u001b[38;5;241m=\u001b[39m\u001b[38;5;124m\"\u001b[39m\u001b[38;5;124mgobind\u001b[39m\u001b[38;5;124m\"\u001b[39m\n\u001b[0;32m---> 11\u001b[0m \u001b[43mstr7\u001b[49m\u001b[43m[\u001b[49m\u001b[38;5;241;43m0\u001b[39;49m\u001b[43m]\u001b[49m\u001b[38;5;241m=\u001b[39m\u001b[38;5;124m'\u001b[39m\u001b[38;5;124mG\u001b[39m\u001b[38;5;124m'\u001b[39m\n\u001b[1;32m     12\u001b[0m \u001b[38;5;66;03m# the above line will lead to error as the element in a string cannot be changed, instead the whole string has to replaced.\u001b[39;00m\n",
      "\u001b[0;31mTypeError\u001b[0m: 'str' object does not support item assignment"
     ]
    }
   ],
   "source": [
    "#Q7. What do you understand about mutable and immutable data types? Give examples for both showing this property.\n",
    "\n",
    "#mutable datatypes are those data types whose elements can be modified. for ex- list\n",
    "list7= [1,2,3]\n",
    "list7[0]=10\n",
    "print(list7)\n",
    "#now the element at 0 index will be replaced or modified to 10\n",
    "\n",
    "# whereas the immutable datatypes are opposite of mutable which simply means that elements can't be modified ex- string\n",
    "str7=\"gobind\"\n",
    "str7[0]='G'\n",
    "# the above line will lead to error as the element in a string cannot be changed, instead the whole string has to replaced."
   ]
  },
  {
   "cell_type": "code",
   "execution_count": null,
   "id": "92dcdfc8-271c-4944-85cc-808f2780e47b",
   "metadata": {},
   "outputs": [],
   "source": []
  }
 ],
 "metadata": {
  "kernelspec": {
   "display_name": "Python 3 (ipykernel)",
   "language": "python",
   "name": "python3"
  },
  "language_info": {
   "codemirror_mode": {
    "name": "ipython",
    "version": 3
   },
   "file_extension": ".py",
   "mimetype": "text/x-python",
   "name": "python",
   "nbconvert_exporter": "python",
   "pygments_lexer": "ipython3",
   "version": "3.10.8"
  }
 },
 "nbformat": 4,
 "nbformat_minor": 5
}
