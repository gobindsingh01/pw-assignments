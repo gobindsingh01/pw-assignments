{
 "cells": [
  {
   "cell_type": "code",
   "execution_count": 10,
   "id": "e2948b96-dacd-4428-a341-b1110e32b977",
   "metadata": {},
   "outputs": [
    {
     "name": "stdout",
     "output_type": "stream",
     "text": [
      "[('Virat Kohli', 24936), ('Jack Kallis', 25534), ('Ricky Ponting', 27483), ('Sachin Tendulkar', 34357)]\n"
     ]
    },
    {
     "data": {
      "text/plain": [
       "[('Virat Kohli', 24936),\n",
       " ('Jack Kallis', 25534),\n",
       " ('Ricky Ponting', 27483),\n",
       " ('Sachin Tendulkar', 34357)]"
      ]
     },
     "execution_count": 10,
     "metadata": {},
     "output_type": "execute_result"
    }
   ],
   "source": [
    "# Q1. Create a python program to sort the given list of tuples based on integer value using a\n",
    "# lambda function.\n",
    "# [('Sachin Tendulkar', 34357), ('Ricky Ponting', 27483), ('Jack Kallis', 25534), ('Virat Kohli', 24936)]\n",
    "# Ans. below\n",
    "a1=[('Sachin Tendulkar', 34357), ('Ricky Ponting', 27483), ('Jack Kallis', 25534), ('Virat Kohli', 24936)]\n",
    "a1.sort(key = lambda x : x[1])# sort is inbuilt function used to sort a list we changed the key to 1 so the list will be sorted in order of ints and not string.\n",
    "print(a1)\n",
    "\"\"\"\n",
    "To this task we have 2 ways:-\n",
    "1. sort() = we can sort a list and set the key on basis of which the values will be sorted we set the key to 1 by default it is 0.\n",
    "2. sorted()= it is similar but this function is not inbuilt so we need to store the value of sorted values later on.\n",
    "\"\"\"\n",
    "b1=[('Sachin Tendulkar', 34357), ('Ricky Ponting', 27483), ('Jack Kallis', 25534), ('Virat Kohli', 24936)]\n",
    "c1= sorted(b1, key = lambda x : x[1])\n",
    "c1\n",
    "# if we don't use the x[1] it will order the list by the string."
   ]
  },
  {
   "cell_type": "code",
   "execution_count": 11,
   "id": "a4209958-b19c-407d-b80b-1c4787f2fab8",
   "metadata": {},
   "outputs": [
    {
     "data": {
      "text/plain": [
       "[1, 4, 9, 16, 25, 36, 49, 64, 81, 100]"
      ]
     },
     "execution_count": 11,
     "metadata": {},
     "output_type": "execute_result"
    }
   ],
   "source": [
    "# Q2. Write a Python Program to find the squares of all the numbers in the given list of integers using\n",
    "# lambda and map functions.\n",
    "# [1, 2, 3, 4, 5, 6, 7, 8, 9, 10]\n",
    "# Ans. below\n",
    "a2 = [1, 2, 3, 4, 5, 6, 7, 8, 9, 10] # created the list\n",
    "l2 = list(map(lambda x : x ** 2, a2)) # using map to iter through the values of a2 and store the square in place one at a time and then create the list again.\n",
    "l2 # giving the list output back"
   ]
  },
  {
   "cell_type": "code",
   "execution_count": 15,
   "id": "d2af5763-6b1f-4c75-b22c-e575ea2757c3",
   "metadata": {},
   "outputs": [
    {
     "data": {
      "text/plain": [
       "('1', '2', '3', '4', '5', '6', '7', '8', '9', '10')"
      ]
     },
     "execution_count": 15,
     "metadata": {},
     "output_type": "execute_result"
    }
   ],
   "source": [
    "# Q3. Write a python program to convert the given list of integers into a tuple of strings. Use map and\n",
    "# lambda functions\n",
    "# Given String: [1, 2, 3, 4, 5, 6, 7, 8, 9, 10]\n",
    "# Expected output: ('1', '2', '3', '4', '5', '6', '7', '8', '9', '10')\n",
    "a3 = [1, 2, 3, 4, 5, 6, 7, 8, 9, 10] # creating the given list \n",
    "t3 = tuple(map(lambda x : str(x), a3)) # converting the values of list to string using map then converting list to tuple\n",
    "t3 # result tuple"
   ]
  },
  {
   "cell_type": "code",
   "execution_count": 17,
   "id": "7d5ea647-cbcd-45d2-8289-3bd8e41da2f5",
   "metadata": {},
   "outputs": [
    {
     "data": {
      "text/plain": [
       "15511210043330985984000000"
      ]
     },
     "execution_count": 17,
     "metadata": {},
     "output_type": "execute_result"
    }
   ],
   "source": [
    "# Q4. Write a python program using reduce function to compute the product of a list containing numbers\n",
    "# from 1 to 25.\n",
    "# Ans. below\n",
    "from functools import reduce #importing reduce function from external module functools\n",
    "l4 = list(range(1,26)) # creating the list of 1 to 25\n",
    "a4 = reduce(lambda x,y : x*y , l4) # using reduce to multiply all the numbers in l4\n",
    "a4 # giving back the output"
   ]
  },
  {
   "cell_type": "code",
   "execution_count": 19,
   "id": "3131349b-03cf-4ba7-a77a-720737699bb7",
   "metadata": {},
   "outputs": [
    {
     "data": {
      "text/plain": [
       "[6, 60, 90, 120]"
      ]
     },
     "execution_count": 19,
     "metadata": {},
     "output_type": "execute_result"
    }
   ],
   "source": [
    "# Q5. Write a python program to filter the numbers in a given list that are divisible by 2 and 3 using the\n",
    "# filter function.\n",
    "# [2, 3, 6, 9, 27, 60, 90, 120, 55, 46]\n",
    "# Ans. below\n",
    "a5 = [2, 3, 6, 9, 27, 60, 90, 120, 55, 46] # creating the given list \n",
    "a5 = list(filter(lambda x : x%2==0 and x%3==0, a5)) # filter the number divisible by 2 and 3 in a5 list and converting the filter object to list \n",
    "a5 # giving back the list of result values"
   ]
  },
  {
   "cell_type": "code",
   "execution_count": 22,
   "id": "18afd011-f493-4063-beba-a65db6a57957",
   "metadata": {},
   "outputs": [
    {
     "data": {
      "text/plain": [
       "['php', 'aba', 'radar', 'level']"
      ]
     },
     "execution_count": 22,
     "metadata": {},
     "output_type": "execute_result"
    }
   ],
   "source": [
    "# Q6. Write a python program to find palindromes in the given list of strings using lambda and filter\n",
    "# function.\n",
    "# ['python', 'php', 'aba', 'radar', 'level']\n",
    "# Ans. below\n",
    "a6= ['python', 'php', 'aba', 'radar', 'level'] # creating the given list\n",
    "l6 = list(filter(lambda x : x==x[::-1], a6)) # filtering the palindromes and storing in a list \n",
    "l6 # giving the list of values"
   ]
  },
  {
   "cell_type": "code",
   "execution_count": null,
   "id": "0053e97b-214e-4cfd-b578-71b5068c02dd",
   "metadata": {},
   "outputs": [],
   "source": []
  }
 ],
 "metadata": {
  "kernelspec": {
   "display_name": "Python 3 (ipykernel)",
   "language": "python",
   "name": "python3"
  },
  "language_info": {
   "codemirror_mode": {
    "name": "ipython",
    "version": 3
   },
   "file_extension": ".py",
   "mimetype": "text/x-python",
   "name": "python",
   "nbconvert_exporter": "python",
   "pygments_lexer": "ipython3",
   "version": "3.10.8"
  }
 },
 "nbformat": 4,
 "nbformat_minor": 5
}
